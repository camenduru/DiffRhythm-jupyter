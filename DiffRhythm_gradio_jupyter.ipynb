{
  "cells": [
    {
      "cell_type": "markdown",
      "metadata": {
        "id": "view-in-github"
      },
      "source": [
        "[![Open In Colab](https://colab.research.google.com/assets/colab-badge.svg)](https://colab.research.google.com/github/camenduru/DiffRhythm-jupyter/blob/main/DiffRhythm_gradio_jupyter.ipynb)"
      ]
    },
    {
      "cell_type": "code",
      "execution_count": null,
      "metadata": {
        "id": "VjYy0F2gZIPR"
      },
      "outputs": [],
      "source": [
        "%cd /content\n",
        "!git clone -b dev https://github.com/camenduru/DiffRhythm-hf\n",
        "!apt install espeak-ng\n",
        "!pip install numpy==2.0 gradio muq mutagen torchdiffeq x-transformers pyopenjtalk pykakasi cn2an pypinyin onnxruntime unidecode phonemizer LangSegment\n",
        "\n",
        "%cd /content/DiffRhythm-hf/diffrhythm/g2p/sources/g2p_chinese_model\n",
        "!wget https://huggingface.co/spaces/ASLP-lab/DiffRhythm/resolve/main/diffrhythm/g2p/sources/g2p_chinese_model/poly_bert_model.onnx\n",
        "%cd /content/DiffRhythm-hf/src\n",
        "!wget https://huggingface.co/spaces/ASLP-lab/DiffRhythm/resolve/main/src/negative_prompt.npy\n",
        "%cd /content/DiffRhythm-hf\n",
        "\n",
        "!python app.py"
      ]
    }
  ],
  "metadata": {
    "accelerator": "GPU",
    "colab": {
      "gpuType": "T4",
      "provenance": []
    },
    "kernelspec": {
      "display_name": "Python 3",
      "name": "python3"
    },
    "language_info": {
      "name": "python"
    }
  },
  "nbformat": 4,
  "nbformat_minor": 0
}
